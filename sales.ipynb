{
 "cells": [
  {
   "cell_type": "markdown",
   "id": "69032b4b-b031-4020-beb0-e8dfd22b660e",
   "metadata": {},
   "source": [
    "# LangChain 实战：基于场景化的聊天机器人（房产，英语培训，手机，及汽车）"
   ]
  },
  {
   "cell_type": "markdown",
   "id": "9e47d183-2832-492b-af86-011a71183ec8",
   "metadata": {},
   "source": [
    "\n",
    "## 使用 Document Transformers 模块来处理原始数据的预处理，包括 房产，英语培训，手机，及汽车"
   ]
  },
  {
   "cell_type": "code",
   "execution_count": 1,
   "id": "efcee928-b9f4-4e4a-b9fb-f6cbee21b642",
   "metadata": {},
   "outputs": [],
   "source": [
    "with open(\"real_estate_sales_data.txt\") as f:\n",
    "    real_estate_sales = f.read()"
   ]
  },
  {
   "cell_type": "code",
   "execution_count": 2,
   "id": "3377962a-4c75-4ac2-aa88-582eca39a092",
   "metadata": {},
   "outputs": [],
   "source": [
    "with open(\"english_training_sales_data.txt\") as f1:\n",
    "    english_training_sales = f1.read()"
   ]
  },
  {
   "cell_type": "code",
   "execution_count": 3,
   "id": "01f1bbf5-f1ad-4a42-abc5-cbb1bfeb7889",
   "metadata": {},
   "outputs": [],
   "source": [
    "with open(\"iphone_sales_data.txt\") as f2:\n",
    "    iphone_sales = f2.read()"
   ]
  },
  {
   "cell_type": "code",
   "execution_count": 55,
   "id": "b56e1774-7e00-440e-abec-8e33bc49aeb2",
   "metadata": {},
   "outputs": [],
   "source": [
    "with open(\"car_sales_data.txt\") as f3:\n",
    "    car_sales = f3.read()"
   ]
  },
  {
   "cell_type": "markdown",
   "id": "a9119556-d2e3-4edf-be16-15837da156f1",
   "metadata": {},
   "source": [
    "### 使用 CharacterTextSplitter 来进行文本分割\n",
    "\n",
    "- 基于单字符来进行文本分割（separator）\n",
    "- 基于字符数来决定文本块长度（chunk_size）\n",
    "\n",
    "参考示例：\n",
    "\n",
    "```python\n",
    "from langchain.text_splitter import CharacterTextSplitter\n",
    "text_splitter = CharacterTextSplitter(        \n",
    "    separator = \"\\n\\n\",\n",
    "    chunk_size = 1000,\n",
    "    chunk_overlap  = 200,\n",
    "    length_function = len,\n",
    "    is_separator_regex = False,\n",
    ")\n",
    "```\n"
   ]
  },
  {
   "cell_type": "code",
   "execution_count": 4,
   "id": "dbe535b8-2bd8-4c31-91d7-eba8aa61b3ef",
   "metadata": {},
   "outputs": [],
   "source": [
    "from langchain.text_splitter import CharacterTextSplitter"
   ]
  },
  {
   "cell_type": "code",
   "execution_count": 7,
   "id": "a4f30d9b-9fc6-4860-a497-0aa8220b9284",
   "metadata": {},
   "outputs": [],
   "source": [
    "text_splitter = CharacterTextSplitter(        \n",
    "    separator = r'\\d+\\.',\n",
    "    chunk_size = 200,\n",
    "    chunk_overlap  = 0,\n",
    "    length_function = len,\n",
    "    is_separator_regex = True,\n",
    ")"
   ]
  },
  {
   "cell_type": "code",
   "execution_count": 8,
   "id": "530f3172-17a5-4924-ad17-284fbca422ae",
   "metadata": {},
   "outputs": [],
   "source": [
    "docs_real = text_splitter.create_documents([real_estate_sales])\n",
    "\n",
    "docs_english = text_splitter.create_documents([english_training_sales])\n",
    "\n",
    "docs_iphone = text_splitter.create_documents([iphone_sales])"
   ]
  },
  {
   "cell_type": "code",
   "execution_count": 56,
   "id": "3ed26fd9-d2b7-44ed-a895-2a33e4f29b45",
   "metadata": {},
   "outputs": [],
   "source": [
    "docs_car = text_splitter.create_documents([car_sales])"
   ]
  },
  {
   "cell_type": "code",
   "execution_count": 11,
   "id": "3956ec36-706e-4f43-88fc-d704f2984290",
   "metadata": {},
   "outputs": [
    {
     "data": {
      "text/plain": [
       "Document(metadata={}, page_content='[客户问题] 这个小区交通便利吗？\\n[销售回答] 当然了，这个小区距离地铁站只有几分钟的步行距离，而且附近有多条公交线路，非常方便。\\n\\n\\\\d+\\\\.  \\n[客户问题] 我担心楼下太吵。\\n[销售回答] 这个小区特别注重居住体验，我们有良好的隔音设计，并且小区内部规划了绿化区域，可以有效降低噪音。')"
      ]
     },
     "execution_count": 11,
     "metadata": {},
     "output_type": "execute_result"
    }
   ],
   "source": [
    "docs_real[0]"
   ]
  },
  {
   "cell_type": "code",
   "execution_count": 12,
   "id": "9f5a70ac-de51-441c-b60e-73c6c5ee84a5",
   "metadata": {},
   "outputs": [
    {
     "data": {
      "text/plain": [
       "Document(metadata={}, page_content='[客户问题] 这个培训课程的费用是多少？\\n[销售回答] 课程费用因课程类型和时长而异，不过我们可以为您提供详细的价格清单和不同付款选项，您方便告诉我您感兴趣的课程吗？\\n\\n\\\\d+\\\\.\\n[客户问题] 这个培训课程的时长是多久？\\n[销售回答] 课程的时长因不同课程而异，通常从几周到几个月不等。我们可以根据您的需求提供最适合您的课程时长，您有特定的时间要求吗？')"
      ]
     },
     "execution_count": 12,
     "metadata": {},
     "output_type": "execute_result"
    }
   ],
   "source": [
    "docs_english[0]"
   ]
  },
  {
   "cell_type": "code",
   "execution_count": 13,
   "id": "2ada0295-e0d2-4dcc-9a74-9cb09e25a012",
   "metadata": {},
   "outputs": [
    {
     "data": {
      "text/plain": [
       "Document(metadata={}, page_content='[客户问题] 这款手机电池续航怎么样？\\n[销售回答] 这款iPhone使用了最先进的电池技术，可以保证您在正常使用下整天都不用担心电量问题。\\n\\n\\\\d+\\\\.\\n[客户问题] 这款手机的相机效果如何？\\n[销售回答] iPhone的相机一直都是业界标杆，它配备了先进的摄像头系统，无论是白天还是夜晚，都可以拍出清晰美丽的照片。')"
      ]
     },
     "execution_count": 13,
     "metadata": {},
     "output_type": "execute_result"
    }
   ],
   "source": [
    "docs_iphone[0]"
   ]
  },
  {
   "cell_type": "code",
   "execution_count": 57,
   "id": "c08eea5d-1345-4558-9083-84da0e93e3a1",
   "metadata": {},
   "outputs": [
    {
     "data": {
      "text/plain": [
       "Document(metadata={}, page_content='[客户问题] 车辆的玻璃水需要加特定品牌的吗？  \\n[销售回答] 不一定非要加特定品牌的玻璃水，但建议选择质量可靠、符合车辆使用要求的产品。  \\n\\n\\\\d+\\\\.  \\n[客户问题] 新车磨合期需要注意什么？  \\n[销售回答] 磨合期内建议避免急加速和急刹车，保持发动机转速在合理范围，首次保养后即可正常驾驶。')"
      ]
     },
     "execution_count": 57,
     "metadata": {},
     "output_type": "execute_result"
    }
   ],
   "source": [
    "docs_car[0]"
   ]
  },
  {
   "cell_type": "code",
   "execution_count": 14,
   "id": "73b2d47a-27ae-4cd4-a72a-3809b4c22bff",
   "metadata": {},
   "outputs": [
    {
     "data": {
      "text/plain": [
       "25"
      ]
     },
     "execution_count": 14,
     "metadata": {},
     "output_type": "execute_result"
    }
   ],
   "source": [
    "len(docs_real)"
   ]
  },
  {
   "cell_type": "markdown",
   "id": "e4617858-ad9c-42eb-a4c3-6bfb7108cdd2",
   "metadata": {},
   "source": [
    "### 使用 Faiss 作为向量数据库，持久化存储房产销售 问答对（QA-Pair）"
   ]
  },
  {
   "cell_type": "code",
   "execution_count": 15,
   "id": "508c2ab2-e187-424f-a43c-ca3d3b1a0550",
   "metadata": {},
   "outputs": [
    {
     "name": "stderr",
     "output_type": "stream",
     "text": [
      "/var/folders/hs/8p529r5x2811ltb4jwc49lgr0000gn/T/ipykernel_8364/3634384091.py:5: LangChainDeprecationWarning: The class `OpenAIEmbeddings` was deprecated in LangChain 0.0.9 and will be removed in 1.0. An updated version of the class exists in the :class:`~langchain-openai package and should be used instead. To use it run `pip install -U :class:`~langchain-openai` and import as `from :class:`~langchain_openai import OpenAIEmbeddings``.\n",
      "  db_real = FAISS.from_documents(docs_real, OpenAIEmbeddings())\n"
     ]
    }
   ],
   "source": [
    "from langchain.embeddings.openai import OpenAIEmbeddings\n",
    "from langchain.text_splitter import CharacterTextSplitter\n",
    "from langchain.vectorstores import FAISS\n",
    "\n",
    "db_real = FAISS.from_documents(docs_real, OpenAIEmbeddings())"
   ]
  },
  {
   "cell_type": "code",
   "execution_count": 16,
   "id": "b3cfa75e-c81f-4c70-9719-e4294e6323b6",
   "metadata": {},
   "outputs": [],
   "source": [
    "db_english = FAISS.from_documents(docs_english, OpenAIEmbeddings())"
   ]
  },
  {
   "cell_type": "code",
   "execution_count": 17,
   "id": "5e14e1e1-12a1-4a4e-b1a6-eab9fdcc00a9",
   "metadata": {},
   "outputs": [],
   "source": [
    "db_iphonoe = FAISS.from_documents(docs_iphone, OpenAIEmbeddings())"
   ]
  },
  {
   "cell_type": "code",
   "execution_count": 58,
   "id": "fc64b52d-97d1-4027-aead-eb3119f2d250",
   "metadata": {},
   "outputs": [],
   "source": [
    "db_car = FAISS.from_documents(docs_car, OpenAIEmbeddings())"
   ]
  },
  {
   "cell_type": "code",
   "execution_count": 20,
   "id": "250e0873-95e2-4372-98a5-68c0feb304bb",
   "metadata": {},
   "outputs": [],
   "source": [
    "query = \"小区吵不吵\""
   ]
  },
  {
   "cell_type": "code",
   "execution_count": 21,
   "id": "0d18fcc6-c2be-434b-b8de-9648ac6f83f4",
   "metadata": {},
   "outputs": [],
   "source": [
    "answer_list = db_real.similarity_search(query)"
   ]
  },
  {
   "cell_type": "code",
   "execution_count": 22,
   "id": "e689667e-7a45-40d6-9eae-4e52cbc7daab",
   "metadata": {
    "collapsed": true,
    "jupyter": {
     "outputs_hidden": true
    }
   },
   "outputs": [
    {
     "name": "stdout",
     "output_type": "stream",
     "text": [
      "[客户问题] 这个小区交通便利吗？\n",
      "[销售回答] 当然了，这个小区距离地铁站只有几分钟的步行距离，而且附近有多条公交线路，非常方便。\n",
      "\n",
      "\\d+\\.  \n",
      "[客户问题] 我担心楼下太吵。\n",
      "[销售回答] 这个小区特别注重居住体验，我们有良好的隔音设计，并且小区内部规划了绿化区域，可以有效降低噪音。\n",
      "\n",
      "[客户问题] 我喜欢安静，这里噪音大吗？\n",
      "[销售回答] 我们特意进行了隔音设计，并且小区内部也有绿化带，整体非常安静。\n",
      "\n",
      "\\d+\\.  \n",
      "[客户问题] 我看这个小区还在建设中。\n",
      "[销售回答] 是的，目前正在建设中，但已经接近尾声，很快就会完工。\n",
      "\n",
      "\\d+\\.  \n",
      "[客户问题] 有哪些休闲设施？\n",
      "[销售回答] 我们有游泳池、健身房、图书馆以及儿童游乐场等多种休闲设施。\n",
      "\n",
      "[客户问题] 我听说这个区域交通常常堵塞。\n",
      "[销售回答] 我们小区的位置实际上是绕开了主要交通瓶颈区，所以相对来说会流畅很多。\n",
      "\n",
      "\\d+\\.  \n",
      "[客户问题] 我很关注环境保护，你们有做到吗？\n",
      "[销售回答] 非常好的问题，我们的建筑采用环保材料，并且在小区规划中也有绿化区域和垃圾分类系统。\n",
      "\n",
      "[客户问题] 我看周围没有学校。\n",
      "[销售回答] 其实附近就有几所知名的学校，并且我们也在考虑未来在社区内建立教育设施。\n",
      "\n",
      "\\d+\\.  \n",
      "[客户问题] 我有老人需要照顾，有便利吗？\n",
      "[销售回答] 我们小区有无障碍通道和专门的老年活动中心，非常适合老年人。\n",
      "\n",
      "\\d+\\.  \n",
      "[客户问题] 这里会不会很吵？\n",
      "[销售回答] 我们有良好的隔音设计和规划，内部环境非常宁静。\n",
      "\n"
     ]
    }
   ],
   "source": [
    "for ans in answer_list:\n",
    "    print(ans.page_content + \"\\n\")"
   ]
  },
  {
   "cell_type": "code",
   "execution_count": 26,
   "id": "a6cc47bf-1566-472f-84d2-a46bd634907c",
   "metadata": {},
   "outputs": [],
   "source": [
    "db_real.save_local(\"real_estate_sales\")"
   ]
  },
  {
   "cell_type": "code",
   "execution_count": 27,
   "id": "1a4709a2-817f-431e-b689-58153375178c",
   "metadata": {},
   "outputs": [],
   "source": [
    "db_english.save_local(\"english_training_sales\")"
   ]
  },
  {
   "cell_type": "code",
   "execution_count": 28,
   "id": "7e3dc83e-682d-4ecd-9069-47c025c61121",
   "metadata": {},
   "outputs": [],
   "source": [
    "db_iphonoe.save_local(\"iphone_sales\")"
   ]
  },
  {
   "cell_type": "code",
   "execution_count": 59,
   "id": "1afb9f49-92e4-4666-b545-6671b02a3217",
   "metadata": {},
   "outputs": [],
   "source": [
    "db_car.save_local(\"car_sales\")"
   ]
  },
  {
   "cell_type": "markdown",
   "id": "0d5323e5-03fa-4c1c-b896-3ccc28af1857",
   "metadata": {},
   "source": [
    "### 使用 retriever 从向量数据库中获取结果\n",
    "\n",
    "#### 使用参数 `k` 指定返回结果数量\n"
   ]
  },
  {
   "cell_type": "code",
   "execution_count": 29,
   "id": "17f051c9-8676-48d1-a9a4-e69b52630faf",
   "metadata": {},
   "outputs": [],
   "source": [
    "db_real_topK_retriever = db_real.as_retriever(search_kwargs={\"k\": 3})"
   ]
  },
  {
   "cell_type": "code",
   "execution_count": 30,
   "id": "854f220a-e10c-42d0-b979-017c915e2ccf",
   "metadata": {},
   "outputs": [],
   "source": [
    "db_english_topK_retriever = db_english.as_retriever(search_kwargs={\"k\": 3})"
   ]
  },
  {
   "cell_type": "code",
   "execution_count": 31,
   "id": "1852c229-0aff-4e00-a999-22145654bf44",
   "metadata": {},
   "outputs": [],
   "source": [
    "db_iphonoe_topK_retriever = db_iphonoe.as_retriever(search_kwargs={\"k\": 3})"
   ]
  },
  {
   "cell_type": "code",
   "execution_count": 33,
   "id": "e33024db-ca7b-4d68-9b0e-c31c15ded57d",
   "metadata": {},
   "outputs": [
    {
     "data": {
      "text/plain": [
       "VectorStoreRetriever(tags=['FAISS', 'OpenAIEmbeddings'], vectorstore=<langchain_community.vectorstores.faiss.FAISS object at 0x117fa85b0>, search_kwargs={'k': 3})"
      ]
     },
     "execution_count": 33,
     "metadata": {},
     "output_type": "execute_result"
    }
   ],
   "source": [
    "db_real_topK_retriever"
   ]
  },
  {
   "cell_type": "code",
   "execution_count": 34,
   "id": "ed112a98-fef9-48e8-9e59-66f0bf9c4ef4",
   "metadata": {},
   "outputs": [
    {
     "data": {
      "text/plain": [
       "VectorStoreRetriever(tags=['FAISS', 'OpenAIEmbeddings'], vectorstore=<langchain_community.vectorstores.faiss.FAISS object at 0x117fb98d0>, search_kwargs={'k': 3})"
      ]
     },
     "execution_count": 34,
     "metadata": {},
     "output_type": "execute_result"
    }
   ],
   "source": [
    "db_english_topK_retriever"
   ]
  },
  {
   "cell_type": "code",
   "execution_count": 35,
   "id": "1e24ae43-8dad-4f7f-b871-0b27ef882a0a",
   "metadata": {},
   "outputs": [
    {
     "data": {
      "text/plain": [
       "VectorStoreRetriever(tags=['FAISS', 'OpenAIEmbeddings'], vectorstore=<langchain_community.vectorstores.faiss.FAISS object at 0x117fcefe0>, search_kwargs={'k': 3})"
      ]
     },
     "execution_count": 35,
     "metadata": {},
     "output_type": "execute_result"
    }
   ],
   "source": [
    "db_iphonoe_topK_retriever"
   ]
  },
  {
   "cell_type": "code",
   "execution_count": 36,
   "id": "7efb1414-859f-4818-bacd-e1e2edf34b95",
   "metadata": {
    "collapsed": true,
    "jupyter": {
     "outputs_hidden": true
    }
   },
   "outputs": [
    {
     "name": "stderr",
     "output_type": "stream",
     "text": [
      "/var/folders/hs/8p529r5x2811ltb4jwc49lgr0000gn/T/ipykernel_8364/3884148054.py:1: LangChainDeprecationWarning: The method `BaseRetriever.get_relevant_documents` was deprecated in langchain-core 0.1.46 and will be removed in 1.0. Use :meth:`~invoke` instead.\n",
      "  docs = db_real_topK_retriever.get_relevant_documents(query)\n"
     ]
    },
    {
     "name": "stdout",
     "output_type": "stream",
     "text": [
      "[客户问题] 这个小区交通便利吗？\n",
      "[销售回答] 当然了，这个小区距离地铁站只有几分钟的步行距离，而且附近有多条公交线路，非常方便。\n",
      "\n",
      "\\d+\\.  \n",
      "[客户问题] 我担心楼下太吵。\n",
      "[销售回答] 这个小区特别注重居住体验，我们有良好的隔音设计，并且小区内部规划了绿化区域，可以有效降低噪音。\n",
      "\n",
      "[客户问题] 我喜欢安静，这里噪音大吗？\n",
      "[销售回答] 我们特意进行了隔音设计，并且小区内部也有绿化带，整体非常安静。\n",
      "\n",
      "\\d+\\.  \n",
      "[客户问题] 我看这个小区还在建设中。\n",
      "[销售回答] 是的，目前正在建设中，但已经接近尾声，很快就会完工。\n",
      "\n",
      "\\d+\\.  \n",
      "[客户问题] 有哪些休闲设施？\n",
      "[销售回答] 我们有游泳池、健身房、图书馆以及儿童游乐场等多种休闲设施。\n",
      "\n",
      "[客户问题] 我听说这个区域交通常常堵塞。\n",
      "[销售回答] 我们小区的位置实际上是绕开了主要交通瓶颈区，所以相对来说会流畅很多。\n",
      "\n",
      "\\d+\\.  \n",
      "[客户问题] 我很关注环境保护，你们有做到吗？\n",
      "[销售回答] 非常好的问题，我们的建筑采用环保材料，并且在小区规划中也有绿化区域和垃圾分类系统。\n",
      "\n"
     ]
    }
   ],
   "source": [
    "docs = db_real_topK_retriever.get_relevant_documents(query)\n",
    "for doc in docs:\n",
    "    print(doc.page_content + \"\\n\")"
   ]
  },
  {
   "cell_type": "code",
   "execution_count": 37,
   "id": "7be78755-670f-4e1f-8334-7b6b60f56f6e",
   "metadata": {
    "collapsed": true,
    "jupyter": {
     "outputs_hidden": true
    }
   },
   "outputs": [
    {
     "name": "stdout",
     "output_type": "stream",
     "text": [
      "[客户问题] 是否有校友网络或协会？\n",
      "[销售回答] 是的，我们有校友网络和协会，这将为您提供与其他校友建立联系和分享职业机会的机会。\n",
      "\n",
      "\\d+\\.\n",
      "[客户问题] 培训课程是否提供贷款或金融支持？\n",
      "[销售回答] 我们可以为符合条件的学员提供贷款或金融支持选项，以帮助您支付课程费用。请与我们的财务团队联系以获取详细信息。\n",
      "\n",
      "[客户问题] 是否提供在线讨论板或社交媒体群组？\n",
      "[销售回答] 是的，我们提供在线讨论板和社交媒体群组，以便学员之间交流和互动。这是一个方便的方式来分享知识和资源。\n",
      "\n",
      "\\d+\\.\n",
      "[客户问题] 培训课程是否提供实习安排？\n",
      "[销售回答] 是的，一些我们的课程可以帮助学员安排实习机会，让他们在实际工作中应用所学知识。我们将提供支持来寻找合适的实习机会。\n",
      "\n",
      "[客户问题] 是否提供在线问答和讨论论坛？\n",
      "[销售回答] 是的，我们提供在线问答和讨论论坛，以便学员与导师和其他学员互动。这是一个有助于学习和分享经验的平台。\n",
      "\n",
      "\\d+\\.\n",
      "[客户问题] 培训课程是否提供导师反馈？\n",
      "[销售回答] 是的，我们的导师将定期提供反馈，帮助您了解自己的学习进展并提供改进建议。这有助于您不断提高。\n",
      "\n"
     ]
    }
   ],
   "source": [
    "docs = db_english_topK_retriever.get_relevant_documents(query)\n",
    "for doc in docs:\n",
    "    print(doc.page_content + \"\\n\")"
   ]
  },
  {
   "cell_type": "code",
   "execution_count": 38,
   "id": "80b27bdc-527a-42a0-9e0d-411ee4828993",
   "metadata": {
    "collapsed": true,
    "jupyter": {
     "outputs_hidden": true
    },
    "scrolled": true
   },
   "outputs": [
    {
     "name": "stdout",
     "output_type": "stream",
     "text": [
      "[客户问题] 它支持双卡双待吗？\n",
      "[销售回答] 是的，它支持双卡双待功能，可以同时使用两张SIM卡，非常适合经常需要切换不同网络的用户。\n",
      "\n",
      "\\d+\\.\n",
      "[客户问题] 电池续航怎么样？\n",
      "[销售回答] 电池续航非常优秀，可以轻松应对一整天的正常使用。并且配备快充功能，能在短时间内快速充电。\n",
      "\n",
      "[客户问题] 它有防水功能吗？\n",
      "[销售回答] 是的，这款iPhone具有卓越的防水和防尘功能，能够抵抗日常生活中的水和尘土。\n",
      "\n",
      "\\d+\\.\n",
      "[客户问题] 它的音质如何？\n",
      "[销售回答] iPhone具有出色的音质，配备了高品质的扬声器和微型话筒，无论是听音乐还是进行通话，都能提供清晰而饱满的声音体验。\n",
      "\n",
      "[客户问题] 我可以在iPhone上看电视节目吗？\n",
      "[销售回答] 当然可以，您可以通过各种流媒体应用，如Netflix, Hulu或Apple TV来观看您喜欢的电视节目和电影。\n",
      "\n",
      "\\d+\\.\n",
      "[客户问题] 它的音质如何？\n",
      "[销售回答] 它配备了高质量的扬声器和微型麦克风，可以提供出色的音频体验，无论是听音乐还是进行通话。\n",
      "\n"
     ]
    }
   ],
   "source": [
    "docs = db_iphonoe_topK_retriever.get_relevant_documents(query)\n",
    "for doc in docs:\n",
    "    print(doc.page_content + \"\\n\")"
   ]
  },
  {
   "cell_type": "code",
   "execution_count": 39,
   "id": "a3c4b62d-6f8f-461b-a4fb-41c8a404b831",
   "metadata": {},
   "outputs": [],
   "source": [
    "docs = db_real_topK_retriever.get_relevant_documents(\"你们有没有1000万的豪宅啊？\")"
   ]
  },
  {
   "cell_type": "code",
   "execution_count": 40,
   "id": "04cca3d7-23d9-491f-8350-faeb19861dec",
   "metadata": {
    "collapsed": true,
    "jupyter": {
     "outputs_hidden": true
    },
    "scrolled": true
   },
   "outputs": [
    {
     "name": "stdout",
     "output_type": "stream",
     "text": [
      "[客户问题] 我不想要一楼的房子。\n",
      "[销售回答] 我理解您的顾虑，我们还有多个楼层的房源可以选择。\n",
      "\n",
      "\\d+\\.  \n",
      "[客户问题] 有优惠吗？\n",
      "[销售回答] 当然，如果您现在下订，我们可以给您一些优惠。\n",
      "\n",
      "\\d+\\.  \n",
      "[客户问题] 你们是否提供按揭服务？\n",
      "[销售回答] 是的，我们与多家银行合作，可以帮助您快速办理按揭。\n",
      "\n",
      "[客户问题] 这个价位对我来说有点高。\n",
      "[销售回答] 我们有不同户型和付款方案，一定有适合您预算的。\n",
      "\n",
      "\\d+\\.  \n",
      "[客户问题] 物业管理怎么样？\n",
      "[销售回答] 我们的物业管理得到业主一致好评，服务周到且高效。\n",
      "\n",
      "\\d+\\.  \n",
      "[客户问题] 如果我想转卖这个房子呢？\n",
      "[销售回答] 我们的房子位于黄金地段，升值潜力很大，转卖起来不会有问题。\n",
      "\n",
      "[客户问题] 我想要南向的房子。\n",
      "[销售回答] 很好，我们确实有一些朝南的单位，它们的采光特别好。\n",
      "\n",
      "\\d+\\.  \n",
      "[客户问题] 这个小区安全吗？\n",
      "[销售回答] 当然，我们24小时安保巡逻，还有先进的监控系统。\n",
      "\n",
      "\\d+\\.  \n",
      "[客户问题] 预计什么时候交房？\n",
      "[销售回答] 根据目前的进度，我们预计将在明年底交房。\n",
      "\n"
     ]
    }
   ],
   "source": [
    "for doc in docs:\n",
    "    print(doc.page_content + \"\\n\")"
   ]
  },
  {
   "cell_type": "code",
   "execution_count": 41,
   "id": "5194c10d-3ea2-4167-bbb8-4f2fdfe08c32",
   "metadata": {},
   "outputs": [
    {
     "name": "stdout",
     "output_type": "stream",
     "text": [
      "[客户问题] 为什么它这么贵？\n",
      "[销售回答] iPhone采用了最先进的技术和高品质的材料来保证您有最好的使用体验，这也是它价格相对较高的一个重要原因。\n",
      "\n",
      "\\d+\\.\n",
      "[客户问题] 这款手机有抗摔功能吗？\n",
      "[销售回答] iPhone设计非常坚固，采用了陶瓷防护屏幕，提供了很好的抗摔性能。但还是建议配合保护壳来使用以确保更长的使用寿命。\n",
      "\n",
      "[客户问题] 它的屏幕是防刮的吗？\n",
      "[销售回答] 是的，它的屏幕采用特殊的材料制造，具有一定的抗刮擦能力，但我们仍然推荐您使用屏幕保护膜来提供额外的保护。\n",
      "\n",
      "\\d+\\.\n",
      "[客户问题] 它支持5G网络吗？\n",
      "[销售回答] 是的，它支持5G网络，可以让您在支持的区域享受极速的网络连接。\n",
      "\n",
      "[客户问题] 它有防水功能吗？\n",
      "[销售回答] 是的，这款iPhone具有卓越的防水和防尘功能，能够抵抗日常生活中的水和尘土。\n",
      "\n",
      "\\d+\\.\n",
      "[客户问题] 它的音质如何？\n",
      "[销售回答] iPhone具有出色的音质，配备了高品质的扬声器和微型话筒，无论是听音乐还是进行通话，都能提供清晰而饱满的声音体验。\n",
      "\n"
     ]
    }
   ],
   "source": [
    "docs = db_iphonoe_topK_retriever.get_relevant_documents(\"这款手机有抗摔功能吗？\")\n",
    "for doc in docs:\n",
    "    print(doc.page_content + \"\\n\")"
   ]
  },
  {
   "cell_type": "markdown",
   "id": "b335c9e5-bc01-4a47-916c-03bec0e7a839",
   "metadata": {},
   "source": [
    "#### 使用 similarity_score_threshold 设置阈值，提升结果的相关性质量"
   ]
  },
  {
   "cell_type": "code",
   "execution_count": 51,
   "id": "b1298956-6cf3-4a68-a3c2-a3149f64f156",
   "metadata": {},
   "outputs": [
    {
     "name": "stderr",
     "output_type": "stream",
     "text": [
      "No relevant docs were retrieved using the relevance score threshold 0.8\n"
     ]
    }
   ],
   "source": [
    "retriever = db_real.as_retriever(\n",
    "    search_type=\"similarity_score_threshold\",\n",
    "    search_kwargs={\"score_threshold\": 0.8}\n",
    ")\n",
    "\n",
    "docs = retriever.get_relevant_documents(query)\n",
    "for doc in docs:\n",
    "    print(doc.page_content + \"\\n\")"
   ]
  },
  {
   "cell_type": "code",
   "execution_count": 54,
   "id": "d61167de-72ed-4618-a2e1-5df04784a3bc",
   "metadata": {},
   "outputs": [
    {
     "name": "stdout",
     "output_type": "stream",
     "text": [
      "[客户问题] 为什么它这么贵？\n",
      "[销售回答] iPhone采用了最先进的技术和高品质的材料来保证您有最好的使用体验，这也是它价格相对较高的一个重要原因。\n",
      "\n",
      "\\d+\\.\n",
      "[客户问题] 这款手机有抗摔功能吗？\n",
      "[销售回答] iPhone设计非常坚固，采用了陶瓷防护屏幕，提供了很好的抗摔性能。但还是建议配合保护壳来使用以确保更长的使用寿命。\n",
      "\n",
      "[客户问题] 它的屏幕是防刮的吗？\n",
      "[销售回答] 是的，它的屏幕采用特殊的材料制造，具有一定的抗刮擦能力，但我们仍然推荐您使用屏幕保护膜来提供额外的保护。\n",
      "\n",
      "\\d+\\.\n",
      "[客户问题] 它支持5G网络吗？\n",
      "[销售回答] 是的，它支持5G网络，可以让您在支持的区域享受极速的网络连接。\n",
      "\n",
      "[客户问题] 它有防水功能吗？\n",
      "[销售回答] 是的，这款iPhone具有卓越的防水和防尘功能，能够抵抗日常生活中的水和尘土。\n",
      "\n",
      "\\d+\\.\n",
      "[客户问题] 它的音质如何？\n",
      "[销售回答] iPhone具有出色的音质，配备了高品质的扬声器和微型话筒，无论是听音乐还是进行通话，都能提供清晰而饱满的声音体验。\n",
      "\n",
      "[客户问题] 这款手机的相机功能如何？\n",
      "[销售回答] 该款iPhone配备了先进的相机系统，包含了多个后置摄像头和一个前置摄像头，可以捕捉到生动清晰的照片和视频。其高动态范围和夜间模式等功能更是确保您在任何光线条件下都可以获得卓越的拍摄效果。\n",
      "\n"
     ]
    }
   ],
   "source": [
    "retriever = db_iphonoe.as_retriever(\n",
    "    search_type=\"similarity_score_threshold\",\n",
    "    search_kwargs={\"score_threshold\": 0.7}\n",
    ")\n",
    "\n",
    "docs = retriever.get_relevant_documents(\"这款手机有抗摔功能吗？\")\n",
    "for doc in docs:\n",
    "    print(doc.page_content + \"\\n\")"
   ]
  },
  {
   "cell_type": "markdown",
   "id": "32a6bdec-1e72-44ea-8d2d-c329831887f5",
   "metadata": {},
   "source": [
    "## 测试新增Car 种类的查询"
   ]
  },
  {
   "cell_type": "code",
   "execution_count": 62,
   "id": "c96400b5-3385-4984-a567-09e54185b9d4",
   "metadata": {},
   "outputs": [
    {
     "name": "stdout",
     "output_type": "stream",
     "text": [
      "[客户问题] 全合成机油必须半年换一次吗？  \n",
      "[销售回答] 全合成机油更换周期可达1年或1万公里，但需根据实际驾驶环境和机油衰减情况调整。  \n",
      "\n",
      "\\d+\\.  \n",
      "[客户问题] 车辆年检需要准备哪些材料？  \n",
      "[销售回答] 需携带行驶证、交强险保单、车主身份证，7座以下新车6年内免上线检测。\n",
      "\n",
      "[客户问题] 刹车片多久需要更换？  \n",
      "[销售回答] 通常前刹车片3-6万公里更换，后刹车片6-10万公里，具体需根据磨损提示器判断。  \n",
      "\n",
      "\\d+\\.  \n",
      "[客户问题] 车内异味如何快速去除？  \n",
      "[销售回答] 建议多通风暴晒，使用活性炭包，部分车型配备空气净化系统可加速异味消散。\n",
      "\n",
      "[客户问题] 变速箱油需要更换吗？  \n",
      "[销售回答] 自动变速箱油建议6-8万公里更换，手动变速箱可延长至8-10万公里。  \n",
      "\n",
      "\\d+\\.  \n",
      "[客户问题] 四驱车油耗比两驱高多少？  \n",
      "[销售回答] 城市路况约高10%-15%，高速路况差异较小，部分智能四驱可自动切换降低能耗。\n",
      "\n",
      "[客户问题] 车辆灯光调节高度怎么设置？  \n",
      "[销售回答] 车内配备大灯高度调节滚轮，部分车型自动调节，具体参考说明书操作。  \n",
      "\n",
      "\\d+\\.  \n",
      "[客户问题] 刹车油多久换一次？  \n",
      "[销售回答] 每2年或4万公里更换，吸水性强易影响制动性能，需定期检测含水量。\n",
      "\n"
     ]
    }
   ],
   "source": [
    "retriever = db_car.as_retriever(\n",
    "    search_type=\"similarity_score_threshold\",\n",
    "    search_kwargs={\"score_threshold\": 0.6}\n",
    ")\n",
    "\n",
    "docs = retriever.get_relevant_documents(\"刹车油多久换一次\")\n",
    "for doc in docs:\n",
    "    print(doc.page_content + \"\\n\")"
   ]
  },
  {
   "cell_type": "code",
   "execution_count": null,
   "id": "2eed1755-6d87-4a88-b537-4a8c495c69e0",
   "metadata": {},
   "outputs": [],
   "source": []
  }
 ],
 "metadata": {
  "kernelspec": {
   "display_name": "Python 3 (ipykernel)",
   "language": "python",
   "name": "python3"
  },
  "language_info": {
   "codemirror_mode": {
    "name": "ipython",
    "version": 3
   },
   "file_extension": ".py",
   "mimetype": "text/x-python",
   "name": "python",
   "nbconvert_exporter": "python",
   "pygments_lexer": "ipython3",
   "version": "3.10.16"
  }
 },
 "nbformat": 4,
 "nbformat_minor": 5
}
